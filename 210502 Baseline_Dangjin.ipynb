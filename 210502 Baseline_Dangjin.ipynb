{
 "cells": [
  {
   "cell_type": "code",
   "execution_count": 1,
   "metadata": {},
   "outputs": [],
   "source": [
    "import pandas as pd\n",
    "import numpy as np\n",
    "import matplotlib.pyplot as plt\n",
    "import lightgbm as lgb"
   ]
  },
  {
   "cell_type": "markdown",
   "metadata": {},
   "source": [
    "# 데이터 불러오기"
   ]
  },
  {
   "cell_type": "code",
   "execution_count": 4,
   "metadata": {},
   "outputs": [],
   "source": [
    "energy = pd.read_csv('energy.csv')\n",
    "dangjin_fcst = pd.read_csv('new_dj_fcst.csv')\n"
   ]
  },
  {
   "cell_type": "code",
   "execution_count": 5,
   "metadata": {},
   "outputs": [
    {
     "data": {
      "text/html": [
       "<div>\n",
       "<style scoped>\n",
       "    .dataframe tbody tr th:only-of-type {\n",
       "        vertical-align: middle;\n",
       "    }\n",
       "\n",
       "    .dataframe tbody tr th {\n",
       "        vertical-align: top;\n",
       "    }\n",
       "\n",
       "    .dataframe thead th {\n",
       "        text-align: right;\n",
       "    }\n",
       "</style>\n",
       "<table border=\"1\" class=\"dataframe\">\n",
       "  <thead>\n",
       "    <tr style=\"text-align: right;\">\n",
       "      <th></th>\n",
       "      <th>time</th>\n",
       "      <th>dangjin_floating</th>\n",
       "      <th>dangjin_warehouse</th>\n",
       "      <th>dangjin</th>\n",
       "      <th>ulsan</th>\n",
       "    </tr>\n",
       "  </thead>\n",
       "  <tbody>\n",
       "    <tr>\n",
       "      <th>0</th>\n",
       "      <td>2018-03-01 1:00</td>\n",
       "      <td>0.0</td>\n",
       "      <td>0.0</td>\n",
       "      <td>0</td>\n",
       "      <td>0</td>\n",
       "    </tr>\n",
       "    <tr>\n",
       "      <th>1</th>\n",
       "      <td>2018-03-01 2:00</td>\n",
       "      <td>0.0</td>\n",
       "      <td>0.0</td>\n",
       "      <td>0</td>\n",
       "      <td>0</td>\n",
       "    </tr>\n",
       "    <tr>\n",
       "      <th>2</th>\n",
       "      <td>2018-03-01 3:00</td>\n",
       "      <td>0.0</td>\n",
       "      <td>0.0</td>\n",
       "      <td>0</td>\n",
       "      <td>0</td>\n",
       "    </tr>\n",
       "    <tr>\n",
       "      <th>3</th>\n",
       "      <td>2018-03-01 4:00</td>\n",
       "      <td>0.0</td>\n",
       "      <td>0.0</td>\n",
       "      <td>0</td>\n",
       "      <td>0</td>\n",
       "    </tr>\n",
       "    <tr>\n",
       "      <th>4</th>\n",
       "      <td>2018-03-01 5:00</td>\n",
       "      <td>0.0</td>\n",
       "      <td>0.0</td>\n",
       "      <td>0</td>\n",
       "      <td>0</td>\n",
       "    </tr>\n",
       "    <tr>\n",
       "      <th>5</th>\n",
       "      <td>2018-03-01 6:00</td>\n",
       "      <td>0.0</td>\n",
       "      <td>0.0</td>\n",
       "      <td>0</td>\n",
       "      <td>0</td>\n",
       "    </tr>\n",
       "    <tr>\n",
       "      <th>6</th>\n",
       "      <td>2018-03-01 7:00</td>\n",
       "      <td>0.0</td>\n",
       "      <td>0.0</td>\n",
       "      <td>0</td>\n",
       "      <td>0</td>\n",
       "    </tr>\n",
       "    <tr>\n",
       "      <th>7</th>\n",
       "      <td>2018-03-01 8:00</td>\n",
       "      <td>0.0</td>\n",
       "      <td>0.0</td>\n",
       "      <td>0</td>\n",
       "      <td>4</td>\n",
       "    </tr>\n",
       "    <tr>\n",
       "      <th>8</th>\n",
       "      <td>2018-03-01 9:00</td>\n",
       "      <td>36.0</td>\n",
       "      <td>33.0</td>\n",
       "      <td>37</td>\n",
       "      <td>35</td>\n",
       "    </tr>\n",
       "    <tr>\n",
       "      <th>9</th>\n",
       "      <td>2018-03-01 10:00</td>\n",
       "      <td>313.0</td>\n",
       "      <td>209.0</td>\n",
       "      <td>318</td>\n",
       "      <td>71</td>\n",
       "    </tr>\n",
       "  </tbody>\n",
       "</table>\n",
       "</div>"
      ],
      "text/plain": [
       "               time  dangjin_floating  dangjin_warehouse  dangjin  ulsan\n",
       "0   2018-03-01 1:00               0.0                0.0        0      0\n",
       "1   2018-03-01 2:00               0.0                0.0        0      0\n",
       "2   2018-03-01 3:00               0.0                0.0        0      0\n",
       "3   2018-03-01 4:00               0.0                0.0        0      0\n",
       "4   2018-03-01 5:00               0.0                0.0        0      0\n",
       "5   2018-03-01 6:00               0.0                0.0        0      0\n",
       "6   2018-03-01 7:00               0.0                0.0        0      0\n",
       "7   2018-03-01 8:00               0.0                0.0        0      4\n",
       "8   2018-03-01 9:00              36.0               33.0       37     35\n",
       "9  2018-03-01 10:00             313.0              209.0      318     71"
      ]
     },
     "execution_count": 5,
     "metadata": {},
     "output_type": "execute_result"
    }
   ],
   "source": [
    "energy.head(10)"
   ]
  },
  {
   "cell_type": "code",
   "execution_count": 16,
   "metadata": {},
   "outputs": [
    {
     "data": {
      "text/plain": [
       "Forecast_time    2021-02-01 00:00:00\n",
       "Temperature                        6\n",
       "Humidity                          80\n",
       "WindSpeed                        5.6\n",
       "WindDirection                    177\n",
       "Cloud                              4\n",
       "Name: 25608, dtype: object"
      ]
     },
     "execution_count": 16,
     "metadata": {},
     "output_type": "execute_result"
    }
   ],
   "source": [
    "dangjin_fcst.loc[25608,:]"
   ]
  },
  {
   "cell_type": "code",
   "execution_count": 26,
   "metadata": {},
   "outputs": [
    {
     "data": {
      "text/plain": [
       "'2021-02-01 00:00:00'"
      ]
     },
     "execution_count": 26,
     "metadata": {},
     "output_type": "execute_result"
    }
   ],
   "source": [
    "dangjin_fcst=pd.DataFrame(dangjin_fcst)\n",
    "dangjin_fcst['Forecast_time'][25608]"
   ]
  },
  {
   "cell_type": "markdown",
   "metadata": {},
   "source": [
    "# 학습 데이터 전처리"
   ]
  },
  {
   "cell_type": "code",
   "execution_count": 27,
   "metadata": {},
   "outputs": [],
   "source": [
    "def train_datast(energy_df,fcst_df,target):\n",
    "    # 일기 예보 있는 날짜만 선택 2018-03-02 이후\n",
    "    energy=energy_df.loc[24:]\n",
    "    energy.index=range(energy.shape[0])\n",
    "    \n",
    "    # 발전량 데이터가 있는 날짜만 선택 2021-02-01이전까지\n",
    "    fcst=fcst_df.loc[:25608-1]\n",
    "    fcst.index=range(fcst.shape[0])\n",
    "    \n",
    "    #발전량과 일기예보 연결\n",
    "    concat_df=pd.concat([energy,fcst],axis=1)\n",
    "    \n",
    "    # 예보 시간 및 날짜 정보 feature로 추가\n",
    "    concat_df['date']=concat_df['Forecast_time'].str.split('').str[0]\n",
    "    concat_df['hour']=concat_df['Forecast_time'].str.split('').str[1].str.split(':').str[0].astype(int)\n",
    "    \n",
    "    concat_df['year']=concat_df['date'].str.split('-').str[0].astype(int)\n",
    "    concat_df['month']=concat_df['date'].str.split('-').str[1].astype(int)\n",
    "    concat_df['day']=concat_df['date'].str.split('-').str[2].astype(int)\n",
    "    \n",
    "    \n",
    "    # 예보 시간, 날짜, 기상 예보 및 발전량 선택\n",
    "    feature_df = concat_df[['year', 'month', 'day', 'hour', 'Temperature', 'Humidity', 'WindSpeed', 'WindDirection', 'Cloud', target]]\n",
    "    \n",
    "    # 마지막 30일을 검증데이터셋으로 나머지를 학습 데이터 셋으로 선택\n",
    "    train_df=feature_df.loc[:-24*30]\n",
    "    val_df=feature_df.loc[-24*30:]\n",
    "    \n",
    "    # 발전량이 0인 데이터를 제외\n",
    "    train_df=train_df[train_df[target]!=0]\n",
    "    \n",
    "    train_x=train_df.loc[:,'year':'cloud'].to_numpy()\n",
    "    train_y=train_df[target].to_numpy()\n",
    "    \n",
    "    \n",
    "    val_x = val_df.loc[:, 'year':'Cloud'].to_numpy()\n",
    "    val_y = val_df[target].to_numpy()\n",
    "    \n",
    "    return train_x,train_y,val_x,val_y\n",
    "    \n",
    "    \n",
    "    "
   ]
  },
  {
   "cell_type": "markdown",
   "metadata": {},
   "source": [
    "## LGBM Custom Metric\n"
   ]
  },
  {
   "cell_type": "code",
   "execution_count": 28,
   "metadata": {},
   "outputs": [],
   "source": [
    "def nmae_10(y_pred,dataset):\n",
    "    y_true=dataset.get_label()\n",
    "     \n",
    "    absolute_error=abs(y_true-y_pred)\n",
    "    absolute_error/=capacity\n",
    "    \n",
    "    target_idx=np.where(y_ture>=capacity*0.1)\n",
    "    nmae=100*absolute_error[target_idx].mean()\n",
    "    \n",
    "    return 'score', nmae, False"
   ]
  },
  {
   "cell_type": "markdown",
   "metadata": {},
   "source": [
    "## Validation Metric\n"
   ]
  },
  {
   "cell_type": "code",
   "execution_count": 29,
   "metadata": {},
   "outputs": [],
   "source": [
    "def sola_nmae(answer, pred):\n",
    "    absolute_error = np.abs(answer - pred)\n",
    "    \n",
    "    absolute_error /= capacity\n",
    "    \n",
    "    target_idx = np.where(answer>=capacity*0.1)\n",
    "    \n",
    "    nmae = 100 * absolute_error[target_idx].mean()\n",
    "    \n",
    "    return nmae"
   ]
  },
  {
   "cell_type": "markdown",
   "metadata": {},
   "source": [
    "## 당진수상태양광 예측 모델 학습"
   ]
  },
  {
   "cell_type": "code",
   "execution_count": null,
   "metadata": {},
   "outputs": [],
   "source": []
  }
 ],
 "metadata": {
  "kernelspec": {
   "display_name": "Python 3",
   "language": "python",
   "name": "python3"
  },
  "language_info": {
   "codemirror_mode": {
    "name": "ipython",
    "version": 3
   },
   "file_extension": ".py",
   "mimetype": "text/x-python",
   "name": "python",
   "nbconvert_exporter": "python",
   "pygments_lexer": "ipython3",
   "version": "3.8.5"
  }
 },
 "nbformat": 4,
 "nbformat_minor": 4
}
